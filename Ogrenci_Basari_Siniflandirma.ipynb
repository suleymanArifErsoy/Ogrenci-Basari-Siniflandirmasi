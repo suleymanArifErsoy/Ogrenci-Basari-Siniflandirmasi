{
  "nbformat": 4,
  "nbformat_minor": 0,
  "metadata": {
    "colab": {
      "provenance": [],
      "collapsed_sections": [
        "fE9we_BR8FH4",
        "MwLEfYwE7g84",
        "Js110s7ZHCFH",
        "JZd2OfWYBKuS",
        "9xRr6GIcE40O",
        "BRs5bTwTz3NG"
      ]
    },
    "kernelspec": {
      "name": "python3",
      "display_name": "Python 3"
    },
    "language_info": {
      "name": "python"
    }
  },
  "cells": [
    {
      "cell_type": "markdown",
      "source": [
        "# Veri Setini Yükleme"
      ],
      "metadata": {
        "id": "fE9we_BR8FH4"
      }
    },
    {
      "cell_type": "code",
      "execution_count": null,
      "metadata": {
        "id": "adQG3eq_5Vnn"
      },
      "outputs": [],
      "source": [
        "import pandas as pd\n",
        "\n",
        "# Veri seti ; ile ayrılmış bunu csv formatına uyacak şekilde \",\" formatında yazıyoruz\n",
        "df = pd.read_csv(\"/content/data.csv\", sep=';')\n",
        "\n",
        "# Sütun adlarındaki fazla boşluk ve kaçış karakterlerini temizledik\n",
        "df.columns = df.columns.str.replace('\\t', '', regex=True).str.strip()"
      ]
    },
    {
      "cell_type": "code",
      "source": [
        "df.head()\n",
        "df.to_csv('students_data.csv', index=False)"
      ],
      "metadata": {
        "id": "g9SnaKIK5rfA"
      },
      "execution_count": null,
      "outputs": []
    },
    {
      "cell_type": "code",
      "source": [
        "# Veri Setinde eksik veriler olup olmadığına bakıldı. Eksik Veri YOK.\n",
        "df.isnull().sum()"
      ],
      "metadata": {
        "id": "zgsvCEDwEMd-",
        "colab": {
          "base_uri": "https://localhost:8080/",
          "height": 1000
        },
        "outputId": "29fd0d6b-86cb-402e-8724-8cd2fb5dd447"
      },
      "execution_count": null,
      "outputs": [
        {
          "output_type": "execute_result",
          "data": {
            "text/plain": [
              "Marital status                                    0\n",
              "Application mode                                  0\n",
              "Application order                                 0\n",
              "Course                                            0\n",
              "Daytime/evening attendance                        0\n",
              "Previous qualification                            0\n",
              "Previous qualification (grade)                    0\n",
              "Nacionality                                       0\n",
              "Mother's qualification                            0\n",
              "Father's qualification                            0\n",
              "Mother's occupation                               0\n",
              "Father's occupation                               0\n",
              "Admission grade                                   0\n",
              "Displaced                                         0\n",
              "Educational special needs                         0\n",
              "Debtor                                            0\n",
              "Tuition fees up to date                           0\n",
              "Gender                                            0\n",
              "Scholarship holder                                0\n",
              "Age at enrollment                                 0\n",
              "International                                     0\n",
              "Curricular units 1st sem (credited)               0\n",
              "Curricular units 1st sem (enrolled)               0\n",
              "Curricular units 1st sem (evaluations)            0\n",
              "Curricular units 1st sem (approved)               0\n",
              "Curricular units 1st sem (grade)                  0\n",
              "Curricular units 1st sem (without evaluations)    0\n",
              "Curricular units 2nd sem (credited)               0\n",
              "Curricular units 2nd sem (enrolled)               0\n",
              "Curricular units 2nd sem (evaluations)            0\n",
              "Curricular units 2nd sem (approved)               0\n",
              "Curricular units 2nd sem (grade)                  0\n",
              "Curricular units 2nd sem (without evaluations)    0\n",
              "Unemployment rate                                 0\n",
              "Inflation rate                                    0\n",
              "GDP                                               0\n",
              "Target                                            0\n",
              "dtype: int64"
            ],
            "text/html": [
              "<div>\n",
              "<style scoped>\n",
              "    .dataframe tbody tr th:only-of-type {\n",
              "        vertical-align: middle;\n",
              "    }\n",
              "\n",
              "    .dataframe tbody tr th {\n",
              "        vertical-align: top;\n",
              "    }\n",
              "\n",
              "    .dataframe thead th {\n",
              "        text-align: right;\n",
              "    }\n",
              "</style>\n",
              "<table border=\"1\" class=\"dataframe\">\n",
              "  <thead>\n",
              "    <tr style=\"text-align: right;\">\n",
              "      <th></th>\n",
              "      <th>0</th>\n",
              "    </tr>\n",
              "  </thead>\n",
              "  <tbody>\n",
              "    <tr>\n",
              "      <th>Marital status</th>\n",
              "      <td>0</td>\n",
              "    </tr>\n",
              "    <tr>\n",
              "      <th>Application mode</th>\n",
              "      <td>0</td>\n",
              "    </tr>\n",
              "    <tr>\n",
              "      <th>Application order</th>\n",
              "      <td>0</td>\n",
              "    </tr>\n",
              "    <tr>\n",
              "      <th>Course</th>\n",
              "      <td>0</td>\n",
              "    </tr>\n",
              "    <tr>\n",
              "      <th>Daytime/evening attendance</th>\n",
              "      <td>0</td>\n",
              "    </tr>\n",
              "    <tr>\n",
              "      <th>Previous qualification</th>\n",
              "      <td>0</td>\n",
              "    </tr>\n",
              "    <tr>\n",
              "      <th>Previous qualification (grade)</th>\n",
              "      <td>0</td>\n",
              "    </tr>\n",
              "    <tr>\n",
              "      <th>Nacionality</th>\n",
              "      <td>0</td>\n",
              "    </tr>\n",
              "    <tr>\n",
              "      <th>Mother's qualification</th>\n",
              "      <td>0</td>\n",
              "    </tr>\n",
              "    <tr>\n",
              "      <th>Father's qualification</th>\n",
              "      <td>0</td>\n",
              "    </tr>\n",
              "    <tr>\n",
              "      <th>Mother's occupation</th>\n",
              "      <td>0</td>\n",
              "    </tr>\n",
              "    <tr>\n",
              "      <th>Father's occupation</th>\n",
              "      <td>0</td>\n",
              "    </tr>\n",
              "    <tr>\n",
              "      <th>Admission grade</th>\n",
              "      <td>0</td>\n",
              "    </tr>\n",
              "    <tr>\n",
              "      <th>Displaced</th>\n",
              "      <td>0</td>\n",
              "    </tr>\n",
              "    <tr>\n",
              "      <th>Educational special needs</th>\n",
              "      <td>0</td>\n",
              "    </tr>\n",
              "    <tr>\n",
              "      <th>Debtor</th>\n",
              "      <td>0</td>\n",
              "    </tr>\n",
              "    <tr>\n",
              "      <th>Tuition fees up to date</th>\n",
              "      <td>0</td>\n",
              "    </tr>\n",
              "    <tr>\n",
              "      <th>Gender</th>\n",
              "      <td>0</td>\n",
              "    </tr>\n",
              "    <tr>\n",
              "      <th>Scholarship holder</th>\n",
              "      <td>0</td>\n",
              "    </tr>\n",
              "    <tr>\n",
              "      <th>Age at enrollment</th>\n",
              "      <td>0</td>\n",
              "    </tr>\n",
              "    <tr>\n",
              "      <th>International</th>\n",
              "      <td>0</td>\n",
              "    </tr>\n",
              "    <tr>\n",
              "      <th>Curricular units 1st sem (credited)</th>\n",
              "      <td>0</td>\n",
              "    </tr>\n",
              "    <tr>\n",
              "      <th>Curricular units 1st sem (enrolled)</th>\n",
              "      <td>0</td>\n",
              "    </tr>\n",
              "    <tr>\n",
              "      <th>Curricular units 1st sem (evaluations)</th>\n",
              "      <td>0</td>\n",
              "    </tr>\n",
              "    <tr>\n",
              "      <th>Curricular units 1st sem (approved)</th>\n",
              "      <td>0</td>\n",
              "    </tr>\n",
              "    <tr>\n",
              "      <th>Curricular units 1st sem (grade)</th>\n",
              "      <td>0</td>\n",
              "    </tr>\n",
              "    <tr>\n",
              "      <th>Curricular units 1st sem (without evaluations)</th>\n",
              "      <td>0</td>\n",
              "    </tr>\n",
              "    <tr>\n",
              "      <th>Curricular units 2nd sem (credited)</th>\n",
              "      <td>0</td>\n",
              "    </tr>\n",
              "    <tr>\n",
              "      <th>Curricular units 2nd sem (enrolled)</th>\n",
              "      <td>0</td>\n",
              "    </tr>\n",
              "    <tr>\n",
              "      <th>Curricular units 2nd sem (evaluations)</th>\n",
              "      <td>0</td>\n",
              "    </tr>\n",
              "    <tr>\n",
              "      <th>Curricular units 2nd sem (approved)</th>\n",
              "      <td>0</td>\n",
              "    </tr>\n",
              "    <tr>\n",
              "      <th>Curricular units 2nd sem (grade)</th>\n",
              "      <td>0</td>\n",
              "    </tr>\n",
              "    <tr>\n",
              "      <th>Curricular units 2nd sem (without evaluations)</th>\n",
              "      <td>0</td>\n",
              "    </tr>\n",
              "    <tr>\n",
              "      <th>Unemployment rate</th>\n",
              "      <td>0</td>\n",
              "    </tr>\n",
              "    <tr>\n",
              "      <th>Inflation rate</th>\n",
              "      <td>0</td>\n",
              "    </tr>\n",
              "    <tr>\n",
              "      <th>GDP</th>\n",
              "      <td>0</td>\n",
              "    </tr>\n",
              "    <tr>\n",
              "      <th>Target</th>\n",
              "      <td>0</td>\n",
              "    </tr>\n",
              "  </tbody>\n",
              "</table>\n",
              "</div><br><label><b>dtype:</b> int64</label>"
            ]
          },
          "metadata": {},
          "execution_count": 3
        }
      ]
    },
    {
      "cell_type": "markdown",
      "source": [
        "# Veri Ön İşleme Adımları"
      ],
      "metadata": {
        "id": "MwLEfYwE7g84"
      }
    },
    {
      "cell_type": "markdown",
      "source": [
        "1- Target (yani sınıflandırma feature'mız) label encoder işlemi yapılacak"
      ],
      "metadata": {
        "id": "Zskmx1YX7u1A"
      }
    },
    {
      "cell_type": "code",
      "source": [
        "from sklearn.preprocessing import LabelEncoder\n",
        "\n",
        "# Target sütunu kategorik etiket ise dönüştür\n",
        "if df['Target'].dtype == 'object':\n",
        "    encoder = LabelEncoder()\n",
        "    df['Target'] = encoder.fit_transform(df['Target'])"
      ],
      "metadata": {
        "id": "chHpfl3J75VI"
      },
      "execution_count": null,
      "outputs": []
    },
    {
      "cell_type": "code",
      "source": [
        "# Veri setindeki sınıflandırma dağılımı incelemesi\n",
        "dropout=df[df[\"Target\"]==0]\n",
        "enrolled=df[df[\"Target\"]==1]\n",
        "graduate=df[df[\"Target\"]==2]\n",
        "print(len(dropout))\n",
        "print(len(enrolled))\n",
        "print(len(graduate))"
      ],
      "metadata": {
        "colab": {
          "base_uri": "https://localhost:8080/"
        },
        "id": "KrBlR2zp8WVQ",
        "outputId": "93c83f24-8c4f-48ab-ffff-087155c5d3a4"
      },
      "execution_count": null,
      "outputs": [
        {
          "output_type": "stream",
          "name": "stdout",
          "text": [
            "1421\n",
            "794\n",
            "2209\n"
          ]
        }
      ]
    },
    {
      "cell_type": "code",
      "source": [
        "df.shape"
      ],
      "metadata": {
        "colab": {
          "base_uri": "https://localhost:8080/"
        },
        "id": "95Hh-gCm-_ff",
        "outputId": "8b310bc7-2f5d-41be-f789-0d7969562e8c"
      },
      "execution_count": null,
      "outputs": [
        {
          "output_type": "execute_result",
          "data": {
            "text/plain": [
              "(4424, 37)"
            ]
          },
          "metadata": {},
          "execution_count": 6
        }
      ]
    },
    {
      "cell_type": "code",
      "source": [
        "df.head()"
      ],
      "metadata": {
        "colab": {
          "base_uri": "https://localhost:8080/",
          "height": 307
        },
        "id": "RkxxjYbj_SsP",
        "outputId": "913c5de7-ad89-4ff1-9f8f-c22ffa2c4383"
      },
      "execution_count": null,
      "outputs": [
        {
          "output_type": "execute_result",
          "data": {
            "text/plain": [
              "   Application order  Previous qualification (grade)  Admission grade  \\\n",
              "0                  5                           122.0            127.3   \n",
              "1                  1                           160.0            142.5   \n",
              "2                  5                           122.0            124.8   \n",
              "3                  2                           122.0            119.6   \n",
              "4                  1                           100.0            141.5   \n",
              "\n",
              "   Age at enrollment  Curricular units 1st sem (credited)  \\\n",
              "0                 20                                    0   \n",
              "1                 19                                    0   \n",
              "2                 19                                    0   \n",
              "3                 20                                    0   \n",
              "4                 45                                    0   \n",
              "\n",
              "   Curricular units 1st sem (enrolled)  \\\n",
              "0                                    0   \n",
              "1                                    6   \n",
              "2                                    6   \n",
              "3                                    6   \n",
              "4                                    6   \n",
              "\n",
              "   Curricular units 1st sem (evaluations)  \\\n",
              "0                                       0   \n",
              "1                                       6   \n",
              "2                                       0   \n",
              "3                                       8   \n",
              "4                                       9   \n",
              "\n",
              "   Curricular units 1st sem (approved)  Curricular units 1st sem (grade)  \\\n",
              "0                                    0                          0.000000   \n",
              "1                                    6                         14.000000   \n",
              "2                                    0                          0.000000   \n",
              "3                                    6                         13.428571   \n",
              "4                                    5                         12.333333   \n",
              "\n",
              "   Curricular units 1st sem (without evaluations)  ...  Debtor_0  Debtor_1  \\\n",
              "0                                               0  ...         1         0   \n",
              "1                                               0  ...         1         0   \n",
              "2                                               0  ...         1         0   \n",
              "3                                               0  ...         1         0   \n",
              "4                                               0  ...         1         0   \n",
              "\n",
              "   Tuition fees up to date_0  Tuition fees up to date_1  Gender_0  Gender_1  \\\n",
              "0                          0                          1         0         1   \n",
              "1                          1                          0         0         1   \n",
              "2                          1                          0         0         1   \n",
              "3                          0                          1         1         0   \n",
              "4                          0                          1         1         0   \n",
              "\n",
              "   Scholarship holder_0  Scholarship holder_1  International_0  \\\n",
              "0                     1                     0                1   \n",
              "1                     1                     0                1   \n",
              "2                     1                     0                1   \n",
              "3                     1                     0                1   \n",
              "4                     1                     0                1   \n",
              "\n",
              "   International_1  \n",
              "0                0  \n",
              "1                0  \n",
              "2                0  \n",
              "3                0  \n",
              "4                0  \n",
              "\n",
              "[5 rows x 256 columns]"
            ],
            "text/html": [
              "\n",
              "  <div id=\"df-1e0248e8-d009-49b8-a9ec-561cddcb4b32\" class=\"colab-df-container\">\n",
              "    <div>\n",
              "<style scoped>\n",
              "    .dataframe tbody tr th:only-of-type {\n",
              "        vertical-align: middle;\n",
              "    }\n",
              "\n",
              "    .dataframe tbody tr th {\n",
              "        vertical-align: top;\n",
              "    }\n",
              "\n",
              "    .dataframe thead th {\n",
              "        text-align: right;\n",
              "    }\n",
              "</style>\n",
              "<table border=\"1\" class=\"dataframe\">\n",
              "  <thead>\n",
              "    <tr style=\"text-align: right;\">\n",
              "      <th></th>\n",
              "      <th>Application order</th>\n",
              "      <th>Previous qualification (grade)</th>\n",
              "      <th>Admission grade</th>\n",
              "      <th>Age at enrollment</th>\n",
              "      <th>Curricular units 1st sem (credited)</th>\n",
              "      <th>Curricular units 1st sem (enrolled)</th>\n",
              "      <th>Curricular units 1st sem (evaluations)</th>\n",
              "      <th>Curricular units 1st sem (approved)</th>\n",
              "      <th>Curricular units 1st sem (grade)</th>\n",
              "      <th>Curricular units 1st sem (without evaluations)</th>\n",
              "      <th>...</th>\n",
              "      <th>Debtor_0</th>\n",
              "      <th>Debtor_1</th>\n",
              "      <th>Tuition fees up to date_0</th>\n",
              "      <th>Tuition fees up to date_1</th>\n",
              "      <th>Gender_0</th>\n",
              "      <th>Gender_1</th>\n",
              "      <th>Scholarship holder_0</th>\n",
              "      <th>Scholarship holder_1</th>\n",
              "      <th>International_0</th>\n",
              "      <th>International_1</th>\n",
              "    </tr>\n",
              "  </thead>\n",
              "  <tbody>\n",
              "    <tr>\n",
              "      <th>0</th>\n",
              "      <td>5</td>\n",
              "      <td>122.0</td>\n",
              "      <td>127.3</td>\n",
              "      <td>20</td>\n",
              "      <td>0</td>\n",
              "      <td>0</td>\n",
              "      <td>0</td>\n",
              "      <td>0</td>\n",
              "      <td>0.000000</td>\n",
              "      <td>0</td>\n",
              "      <td>...</td>\n",
              "      <td>1</td>\n",
              "      <td>0</td>\n",
              "      <td>0</td>\n",
              "      <td>1</td>\n",
              "      <td>0</td>\n",
              "      <td>1</td>\n",
              "      <td>1</td>\n",
              "      <td>0</td>\n",
              "      <td>1</td>\n",
              "      <td>0</td>\n",
              "    </tr>\n",
              "    <tr>\n",
              "      <th>1</th>\n",
              "      <td>1</td>\n",
              "      <td>160.0</td>\n",
              "      <td>142.5</td>\n",
              "      <td>19</td>\n",
              "      <td>0</td>\n",
              "      <td>6</td>\n",
              "      <td>6</td>\n",
              "      <td>6</td>\n",
              "      <td>14.000000</td>\n",
              "      <td>0</td>\n",
              "      <td>...</td>\n",
              "      <td>1</td>\n",
              "      <td>0</td>\n",
              "      <td>1</td>\n",
              "      <td>0</td>\n",
              "      <td>0</td>\n",
              "      <td>1</td>\n",
              "      <td>1</td>\n",
              "      <td>0</td>\n",
              "      <td>1</td>\n",
              "      <td>0</td>\n",
              "    </tr>\n",
              "    <tr>\n",
              "      <th>2</th>\n",
              "      <td>5</td>\n",
              "      <td>122.0</td>\n",
              "      <td>124.8</td>\n",
              "      <td>19</td>\n",
              "      <td>0</td>\n",
              "      <td>6</td>\n",
              "      <td>0</td>\n",
              "      <td>0</td>\n",
              "      <td>0.000000</td>\n",
              "      <td>0</td>\n",
              "      <td>...</td>\n",
              "      <td>1</td>\n",
              "      <td>0</td>\n",
              "      <td>1</td>\n",
              "      <td>0</td>\n",
              "      <td>0</td>\n",
              "      <td>1</td>\n",
              "      <td>1</td>\n",
              "      <td>0</td>\n",
              "      <td>1</td>\n",
              "      <td>0</td>\n",
              "    </tr>\n",
              "    <tr>\n",
              "      <th>3</th>\n",
              "      <td>2</td>\n",
              "      <td>122.0</td>\n",
              "      <td>119.6</td>\n",
              "      <td>20</td>\n",
              "      <td>0</td>\n",
              "      <td>6</td>\n",
              "      <td>8</td>\n",
              "      <td>6</td>\n",
              "      <td>13.428571</td>\n",
              "      <td>0</td>\n",
              "      <td>...</td>\n",
              "      <td>1</td>\n",
              "      <td>0</td>\n",
              "      <td>0</td>\n",
              "      <td>1</td>\n",
              "      <td>1</td>\n",
              "      <td>0</td>\n",
              "      <td>1</td>\n",
              "      <td>0</td>\n",
              "      <td>1</td>\n",
              "      <td>0</td>\n",
              "    </tr>\n",
              "    <tr>\n",
              "      <th>4</th>\n",
              "      <td>1</td>\n",
              "      <td>100.0</td>\n",
              "      <td>141.5</td>\n",
              "      <td>45</td>\n",
              "      <td>0</td>\n",
              "      <td>6</td>\n",
              "      <td>9</td>\n",
              "      <td>5</td>\n",
              "      <td>12.333333</td>\n",
              "      <td>0</td>\n",
              "      <td>...</td>\n",
              "      <td>1</td>\n",
              "      <td>0</td>\n",
              "      <td>0</td>\n",
              "      <td>1</td>\n",
              "      <td>1</td>\n",
              "      <td>0</td>\n",
              "      <td>1</td>\n",
              "      <td>0</td>\n",
              "      <td>1</td>\n",
              "      <td>0</td>\n",
              "    </tr>\n",
              "  </tbody>\n",
              "</table>\n",
              "<p>5 rows × 256 columns</p>\n",
              "</div>\n",
              "    <div class=\"colab-df-buttons\">\n",
              "\n",
              "  <div class=\"colab-df-container\">\n",
              "    <button class=\"colab-df-convert\" onclick=\"convertToInteractive('df-1e0248e8-d009-49b8-a9ec-561cddcb4b32')\"\n",
              "            title=\"Convert this dataframe to an interactive table.\"\n",
              "            style=\"display:none;\">\n",
              "\n",
              "  <svg xmlns=\"http://www.w3.org/2000/svg\" height=\"24px\" viewBox=\"0 -960 960 960\">\n",
              "    <path d=\"M120-120v-720h720v720H120Zm60-500h600v-160H180v160Zm220 220h160v-160H400v160Zm0 220h160v-160H400v160ZM180-400h160v-160H180v160Zm440 0h160v-160H620v160ZM180-180h160v-160H180v160Zm440 0h160v-160H620v160Z\"/>\n",
              "  </svg>\n",
              "    </button>\n",
              "\n",
              "  <style>\n",
              "    .colab-df-container {\n",
              "      display:flex;\n",
              "      gap: 12px;\n",
              "    }\n",
              "\n",
              "    .colab-df-convert {\n",
              "      background-color: #E8F0FE;\n",
              "      border: none;\n",
              "      border-radius: 50%;\n",
              "      cursor: pointer;\n",
              "      display: none;\n",
              "      fill: #1967D2;\n",
              "      height: 32px;\n",
              "      padding: 0 0 0 0;\n",
              "      width: 32px;\n",
              "    }\n",
              "\n",
              "    .colab-df-convert:hover {\n",
              "      background-color: #E2EBFA;\n",
              "      box-shadow: 0px 1px 2px rgba(60, 64, 67, 0.3), 0px 1px 3px 1px rgba(60, 64, 67, 0.15);\n",
              "      fill: #174EA6;\n",
              "    }\n",
              "\n",
              "    .colab-df-buttons div {\n",
              "      margin-bottom: 4px;\n",
              "    }\n",
              "\n",
              "    [theme=dark] .colab-df-convert {\n",
              "      background-color: #3B4455;\n",
              "      fill: #D2E3FC;\n",
              "    }\n",
              "\n",
              "    [theme=dark] .colab-df-convert:hover {\n",
              "      background-color: #434B5C;\n",
              "      box-shadow: 0px 1px 3px 1px rgba(0, 0, 0, 0.15);\n",
              "      filter: drop-shadow(0px 1px 2px rgba(0, 0, 0, 0.3));\n",
              "      fill: #FFFFFF;\n",
              "    }\n",
              "  </style>\n",
              "\n",
              "    <script>\n",
              "      const buttonEl =\n",
              "        document.querySelector('#df-1e0248e8-d009-49b8-a9ec-561cddcb4b32 button.colab-df-convert');\n",
              "      buttonEl.style.display =\n",
              "        google.colab.kernel.accessAllowed ? 'block' : 'none';\n",
              "\n",
              "      async function convertToInteractive(key) {\n",
              "        const element = document.querySelector('#df-1e0248e8-d009-49b8-a9ec-561cddcb4b32');\n",
              "        const dataTable =\n",
              "          await google.colab.kernel.invokeFunction('convertToInteractive',\n",
              "                                                    [key], {});\n",
              "        if (!dataTable) return;\n",
              "\n",
              "        const docLinkHtml = 'Like what you see? Visit the ' +\n",
              "          '<a target=\"_blank\" href=https://colab.research.google.com/notebooks/data_table.ipynb>data table notebook</a>'\n",
              "          + ' to learn more about interactive tables.';\n",
              "        element.innerHTML = '';\n",
              "        dataTable['output_type'] = 'display_data';\n",
              "        await google.colab.output.renderOutput(dataTable, element);\n",
              "        const docLink = document.createElement('div');\n",
              "        docLink.innerHTML = docLinkHtml;\n",
              "        element.appendChild(docLink);\n",
              "      }\n",
              "    </script>\n",
              "  </div>\n",
              "\n",
              "\n",
              "    <div id=\"df-8b6aa5f9-c779-4ff7-88c2-fbe2e87bd5eb\">\n",
              "      <button class=\"colab-df-quickchart\" onclick=\"quickchart('df-8b6aa5f9-c779-4ff7-88c2-fbe2e87bd5eb')\"\n",
              "                title=\"Suggest charts\"\n",
              "                style=\"display:none;\">\n",
              "\n",
              "<svg xmlns=\"http://www.w3.org/2000/svg\" height=\"24px\"viewBox=\"0 0 24 24\"\n",
              "     width=\"24px\">\n",
              "    <g>\n",
              "        <path d=\"M19 3H5c-1.1 0-2 .9-2 2v14c0 1.1.9 2 2 2h14c1.1 0 2-.9 2-2V5c0-1.1-.9-2-2-2zM9 17H7v-7h2v7zm4 0h-2V7h2v10zm4 0h-2v-4h2v4z\"/>\n",
              "    </g>\n",
              "</svg>\n",
              "      </button>\n",
              "\n",
              "<style>\n",
              "  .colab-df-quickchart {\n",
              "      --bg-color: #E8F0FE;\n",
              "      --fill-color: #1967D2;\n",
              "      --hover-bg-color: #E2EBFA;\n",
              "      --hover-fill-color: #174EA6;\n",
              "      --disabled-fill-color: #AAA;\n",
              "      --disabled-bg-color: #DDD;\n",
              "  }\n",
              "\n",
              "  [theme=dark] .colab-df-quickchart {\n",
              "      --bg-color: #3B4455;\n",
              "      --fill-color: #D2E3FC;\n",
              "      --hover-bg-color: #434B5C;\n",
              "      --hover-fill-color: #FFFFFF;\n",
              "      --disabled-bg-color: #3B4455;\n",
              "      --disabled-fill-color: #666;\n",
              "  }\n",
              "\n",
              "  .colab-df-quickchart {\n",
              "    background-color: var(--bg-color);\n",
              "    border: none;\n",
              "    border-radius: 50%;\n",
              "    cursor: pointer;\n",
              "    display: none;\n",
              "    fill: var(--fill-color);\n",
              "    height: 32px;\n",
              "    padding: 0;\n",
              "    width: 32px;\n",
              "  }\n",
              "\n",
              "  .colab-df-quickchart:hover {\n",
              "    background-color: var(--hover-bg-color);\n",
              "    box-shadow: 0 1px 2px rgba(60, 64, 67, 0.3), 0 1px 3px 1px rgba(60, 64, 67, 0.15);\n",
              "    fill: var(--button-hover-fill-color);\n",
              "  }\n",
              "\n",
              "  .colab-df-quickchart-complete:disabled,\n",
              "  .colab-df-quickchart-complete:disabled:hover {\n",
              "    background-color: var(--disabled-bg-color);\n",
              "    fill: var(--disabled-fill-color);\n",
              "    box-shadow: none;\n",
              "  }\n",
              "\n",
              "  .colab-df-spinner {\n",
              "    border: 2px solid var(--fill-color);\n",
              "    border-color: transparent;\n",
              "    border-bottom-color: var(--fill-color);\n",
              "    animation:\n",
              "      spin 1s steps(1) infinite;\n",
              "  }\n",
              "\n",
              "  @keyframes spin {\n",
              "    0% {\n",
              "      border-color: transparent;\n",
              "      border-bottom-color: var(--fill-color);\n",
              "      border-left-color: var(--fill-color);\n",
              "    }\n",
              "    20% {\n",
              "      border-color: transparent;\n",
              "      border-left-color: var(--fill-color);\n",
              "      border-top-color: var(--fill-color);\n",
              "    }\n",
              "    30% {\n",
              "      border-color: transparent;\n",
              "      border-left-color: var(--fill-color);\n",
              "      border-top-color: var(--fill-color);\n",
              "      border-right-color: var(--fill-color);\n",
              "    }\n",
              "    40% {\n",
              "      border-color: transparent;\n",
              "      border-right-color: var(--fill-color);\n",
              "      border-top-color: var(--fill-color);\n",
              "    }\n",
              "    60% {\n",
              "      border-color: transparent;\n",
              "      border-right-color: var(--fill-color);\n",
              "    }\n",
              "    80% {\n",
              "      border-color: transparent;\n",
              "      border-right-color: var(--fill-color);\n",
              "      border-bottom-color: var(--fill-color);\n",
              "    }\n",
              "    90% {\n",
              "      border-color: transparent;\n",
              "      border-bottom-color: var(--fill-color);\n",
              "    }\n",
              "  }\n",
              "</style>\n",
              "\n",
              "      <script>\n",
              "        async function quickchart(key) {\n",
              "          const quickchartButtonEl =\n",
              "            document.querySelector('#' + key + ' button');\n",
              "          quickchartButtonEl.disabled = true;  // To prevent multiple clicks.\n",
              "          quickchartButtonEl.classList.add('colab-df-spinner');\n",
              "          try {\n",
              "            const charts = await google.colab.kernel.invokeFunction(\n",
              "                'suggestCharts', [key], {});\n",
              "          } catch (error) {\n",
              "            console.error('Error during call to suggestCharts:', error);\n",
              "          }\n",
              "          quickchartButtonEl.classList.remove('colab-df-spinner');\n",
              "          quickchartButtonEl.classList.add('colab-df-quickchart-complete');\n",
              "        }\n",
              "        (() => {\n",
              "          let quickchartButtonEl =\n",
              "            document.querySelector('#df-8b6aa5f9-c779-4ff7-88c2-fbe2e87bd5eb button');\n",
              "          quickchartButtonEl.style.display =\n",
              "            google.colab.kernel.accessAllowed ? 'block' : 'none';\n",
              "        })();\n",
              "      </script>\n",
              "    </div>\n",
              "\n",
              "    </div>\n",
              "  </div>\n"
            ],
            "application/vnd.google.colaboratory.intrinsic+json": {
              "type": "dataframe",
              "variable_name": "df"
            }
          },
          "metadata": {},
          "execution_count": 129
        }
      ]
    },
    {
      "cell_type": "markdown",
      "source": [
        "2- Ölçeklenmesi gereken columlar'ı belirleme ve StandartScaler yapma işlemi"
      ],
      "metadata": {
        "id": "NmXsLL79CRLW"
      }
    },
    {
      "cell_type": "code",
      "source": [
        "from sklearn.preprocessing import StandardScaler\n",
        "# Ölçeklenmesi gereken sutunlar\n",
        "columns_to_scale = [\n",
        "    \"Application order\",\n",
        "    \"Previous qualification (grade)\",\n",
        "    \"Admission grade\",\n",
        "    \"Age at enrollment\",\n",
        "    \"Curricular units 1st sem (credited)\",\n",
        "    \"Curricular units 1st sem (enrolled)\",\n",
        "    \"Curricular units 1st sem (evaluations)\",\n",
        "    \"Curricular units 1st sem (approved)\",\n",
        "    \"Curricular units 1st sem (grade)\",\n",
        "    \"Curricular units 1st sem (without evaluations)\",\n",
        "    \"Curricular units 2nd sem (credited)\",\n",
        "    \"Curricular units 2nd sem (enrolled)\",\n",
        "    \"Curricular units 2nd sem (evaluations)\",\n",
        "    \"Curricular units 2nd sem (approved)\",\n",
        "    \"Curricular units 2nd sem (grade)\",\n",
        "    \"Curricular units 2nd sem (without evaluations)\",\n",
        "    \"Unemployment rate\",\n",
        "    \"Inflation rate\",\n",
        "    \"GDP\"\n",
        "]\n",
        "ss = StandardScaler()\n",
        "# Seçilen sütunları standardize etme\n",
        "df[columns_to_scale] = ss.fit_transform(df[columns_to_scale])"
      ],
      "metadata": {
        "id": "MFH-fD9HB44W"
      },
      "execution_count": null,
      "outputs": []
    },
    {
      "cell_type": "code",
      "source": [
        "df.dtypes.value_counts() # Tüm değerler makinenin anlayacağı formatta mı? (Sayısal mı) EVET"
      ],
      "metadata": {
        "colab": {
          "base_uri": "https://localhost:8080/",
          "height": 147
        },
        "id": "KP0pe-9bDTP2",
        "outputId": "c06c8b18-77db-4973-8f8f-e4ae7cd4c424"
      },
      "execution_count": null,
      "outputs": [
        {
          "output_type": "execute_result",
          "data": {
            "text/plain": [
              "float64    19\n",
              "int64      18\n",
              "Name: count, dtype: int64"
            ],
            "text/html": [
              "<div>\n",
              "<style scoped>\n",
              "    .dataframe tbody tr th:only-of-type {\n",
              "        vertical-align: middle;\n",
              "    }\n",
              "\n",
              "    .dataframe tbody tr th {\n",
              "        vertical-align: top;\n",
              "    }\n",
              "\n",
              "    .dataframe thead th {\n",
              "        text-align: right;\n",
              "    }\n",
              "</style>\n",
              "<table border=\"1\" class=\"dataframe\">\n",
              "  <thead>\n",
              "    <tr style=\"text-align: right;\">\n",
              "      <th></th>\n",
              "      <th>count</th>\n",
              "    </tr>\n",
              "  </thead>\n",
              "  <tbody>\n",
              "    <tr>\n",
              "      <th>float64</th>\n",
              "      <td>19</td>\n",
              "    </tr>\n",
              "    <tr>\n",
              "      <th>int64</th>\n",
              "      <td>18</td>\n",
              "    </tr>\n",
              "  </tbody>\n",
              "</table>\n",
              "</div><br><label><b>dtype:</b> int64</label>"
            ]
          },
          "metadata": {},
          "execution_count": 14
        }
      ]
    },
    {
      "cell_type": "code",
      "source": [
        "df.to_csv('En_guncel_ogrenci_data.csv', index=False)"
      ],
      "metadata": {
        "id": "SUZ_3BADW-yM"
      },
      "execution_count": null,
      "outputs": []
    },
    {
      "cell_type": "code",
      "source": [
        "df.info()"
      ],
      "metadata": {
        "colab": {
          "base_uri": "https://localhost:8080/"
        },
        "id": "oSfaoa9_gNPX",
        "outputId": "ffc60082-8cf8-410f-ea30-ba6cbbf8dfdd"
      },
      "execution_count": null,
      "outputs": [
        {
          "output_type": "stream",
          "name": "stdout",
          "text": [
            "<class 'pandas.core.frame.DataFrame'>\n",
            "RangeIndex: 4424 entries, 0 to 4423\n",
            "Data columns (total 37 columns):\n",
            " #   Column                                          Non-Null Count  Dtype  \n",
            "---  ------                                          --------------  -----  \n",
            " 0   Marital status                                  4424 non-null   int64  \n",
            " 1   Application mode                                4424 non-null   int64  \n",
            " 2   Application order                               4424 non-null   float64\n",
            " 3   Course                                          4424 non-null   int64  \n",
            " 4   Daytime/evening attendance                      4424 non-null   int64  \n",
            " 5   Previous qualification                          4424 non-null   int64  \n",
            " 6   Previous qualification (grade)                  4424 non-null   float64\n",
            " 7   Nacionality                                     4424 non-null   int64  \n",
            " 8   Mother's qualification                          4424 non-null   int64  \n",
            " 9   Father's qualification                          4424 non-null   int64  \n",
            " 10  Mother's occupation                             4424 non-null   int64  \n",
            " 11  Father's occupation                             4424 non-null   int64  \n",
            " 12  Admission grade                                 4424 non-null   float64\n",
            " 13  Displaced                                       4424 non-null   int64  \n",
            " 14  Educational special needs                       4424 non-null   int64  \n",
            " 15  Debtor                                          4424 non-null   int64  \n",
            " 16  Tuition fees up to date                         4424 non-null   int64  \n",
            " 17  Gender                                          4424 non-null   int64  \n",
            " 18  Scholarship holder                              4424 non-null   int64  \n",
            " 19  Age at enrollment                               4424 non-null   float64\n",
            " 20  International                                   4424 non-null   int64  \n",
            " 21  Curricular units 1st sem (credited)             4424 non-null   float64\n",
            " 22  Curricular units 1st sem (enrolled)             4424 non-null   float64\n",
            " 23  Curricular units 1st sem (evaluations)          4424 non-null   float64\n",
            " 24  Curricular units 1st sem (approved)             4424 non-null   float64\n",
            " 25  Curricular units 1st sem (grade)                4424 non-null   float64\n",
            " 26  Curricular units 1st sem (without evaluations)  4424 non-null   float64\n",
            " 27  Curricular units 2nd sem (credited)             4424 non-null   float64\n",
            " 28  Curricular units 2nd sem (enrolled)             4424 non-null   float64\n",
            " 29  Curricular units 2nd sem (evaluations)          4424 non-null   float64\n",
            " 30  Curricular units 2nd sem (approved)             4424 non-null   float64\n",
            " 31  Curricular units 2nd sem (grade)                4424 non-null   float64\n",
            " 32  Curricular units 2nd sem (without evaluations)  4424 non-null   float64\n",
            " 33  Unemployment rate                               4424 non-null   float64\n",
            " 34  Inflation rate                                  4424 non-null   float64\n",
            " 35  GDP                                             4424 non-null   float64\n",
            " 36  Target                                          4424 non-null   int64  \n",
            "dtypes: float64(19), int64(18)\n",
            "memory usage: 1.2 MB\n"
          ]
        }
      ]
    },
    {
      "cell_type": "markdown",
      "source": [
        "# Features Selection"
      ],
      "metadata": {
        "id": "Js110s7ZHCFH"
      }
    },
    {
      "cell_type": "code",
      "source": [
        "from sklearn.feature_selection import SelectKBest, f_classif, chi2\n",
        "\n",
        "# numerik değerleri seçerken features selection\n",
        "\n",
        "X_float = df.select_dtypes(include=['float64'])\n",
        "y = df['Target']\n",
        "\n",
        "selector = SelectKBest(score_func=f_classif, k=10)  # k en iyi özelliği alır\n",
        "X_new = selector.fit_transform(X_float, y)\n",
        "\n",
        "selected_features = X_float.columns[selector.get_support()]\n",
        "\n",
        "# chi kare ile features selection\n",
        "# Kategorik değerleri seçerken Features selection\n",
        "\n",
        "X_bin = df.select_dtypes(include=['int64']).drop(columns=['Target'])  # Target dışla\n",
        "selector = SelectKBest(score_func=chi2, k=10)\n",
        "X_bin_selected = selector.fit_transform(X_bin, y)\n",
        "\n",
        "selected_bin_features = X_bin.columns[selector.get_support()]"
      ],
      "metadata": {
        "id": "nMsYNCM8g9yw"
      },
      "execution_count": null,
      "outputs": []
    },
    {
      "cell_type": "code",
      "source": [
        "# Selection Features'ları birleştirir.\n",
        "X_selected = pd.concat([X_float[selected_features], X_bin[selected_bin_features]], axis=1)\n",
        "\n",
        "X = X_selected"
      ],
      "metadata": {
        "id": "rSQcJrrQwOU-"
      },
      "execution_count": null,
      "outputs": []
    },
    {
      "cell_type": "markdown",
      "source": [
        "# Model Eğitimi"
      ],
      "metadata": {
        "id": "9xRr6GIcE40O"
      }
    },
    {
      "cell_type": "markdown",
      "source": [
        "1- Random Forest Classifier"
      ],
      "metadata": {
        "id": "pzlNQEu1Hoae"
      }
    },
    {
      "cell_type": "code",
      "source": [
        "from sklearn.ensemble import RandomForestClassifier\n",
        "from sklearn.model_selection import train_test_split\n",
        "from sklearn.metrics import classification_report\n",
        "\n",
        "\n",
        "# Veriyi ayır\n",
        "#X = df.drop(\"Target\", axis=1)\n",
        "y = df[\"Target\"]\n",
        "\n",
        "# Eğitim ve test verisini ayır\n",
        "X_train, X_test, y_train, y_test = train_test_split(X, y, stratify=y, test_size=0.2, random_state=42)\n",
        "\n",
        "\n",
        "# Modeli eğit\n",
        "model = RandomForestClassifier(\n",
        "    class_weight='balanced',\n",
        "    n_estimators=100,      # Ağaç sayısı\n",
        "    criterion='gini',      # veya 'entropy' (sınıflandırma için)\n",
        "    #max_depth=None,        # Ağaçların maksimum derinliği\n",
        "    #min_samples_split=2,   # Bölünme için minimum örnek sayısı\n",
        "    #min_samples_leaf=1,    # Yaprak düğümler için minimum örnek sayısı\n",
        "    #max_features='auto',   # Her bölünmede düşünülecek özellik sayısı ('sqrt' genelde iyidir)\n",
        "    #bootstrap=True,        # Örneklerin bootstrap ile seçilip seçilmeyeceği\n",
        "    random_state=42        # Reprodüksiyon için\n",
        ")\n",
        "model.fit(X_train, y_train)\n",
        "\n",
        "# Tahmin ve değerlendirme\n",
        "y_pred = model.predict(X_test)\n",
        "print(classification_report(y_test, y_pred))\n"
      ],
      "metadata": {
        "colab": {
          "base_uri": "https://localhost:8080/"
        },
        "id": "0D4ptw5IFedm",
        "outputId": "e1623e07-4e80-4cbe-a0a0-a2b97776a87c"
      },
      "execution_count": null,
      "outputs": [
        {
          "output_type": "stream",
          "name": "stdout",
          "text": [
            "              precision    recall  f1-score   support\n",
            "\n",
            "           0       0.82      0.75      0.78       284\n",
            "           1       0.54      0.40      0.46       159\n",
            "           2       0.80      0.92      0.86       442\n",
            "\n",
            "    accuracy                           0.77       885\n",
            "   macro avg       0.72      0.69      0.70       885\n",
            "weighted avg       0.76      0.77      0.76       885\n",
            "\n"
          ]
        }
      ]
    },
    {
      "cell_type": "code",
      "source": [
        "from imblearn.over_sampling import SMOTE\n",
        "\n",
        "# Eğitim/test verilerini ayır\n",
        "X_train, X_test, y_train, y_test = train_test_split(X, y, stratify=y, test_size=0.2, random_state=42)\n",
        "\n",
        "# SMOTE ile eğitim verisini dengele\n",
        "smote = SMOTE(random_state=42)\n",
        "X_train_smote, y_train_smote = smote.fit_resample(X_train, y_train)\n",
        "\n",
        "# Random Forest sınıflandırıcısını oluştur ve eğit\n",
        "model = RandomForestClassifier(\n",
        "    class_weight='balanced',\n",
        "    n_estimators=100,\n",
        "    criterion='gini',\n",
        "    random_state=42\n",
        ")\n",
        "model.fit(X_train_smote, y_train_smote)\n",
        "\n",
        "# Test verisi üzerinde tahmin yap\n",
        "y_pred = model.predict(X_test)\n",
        "\n",
        "# Performans raporu\n",
        "print(classification_report(y_test, y_pred))\n"
      ],
      "metadata": {
        "colab": {
          "base_uri": "https://localhost:8080/"
        },
        "id": "HgGsNBeCYqFT",
        "outputId": "b6e04b9a-30aa-482c-99d1-4628ffd9a15f"
      },
      "execution_count": null,
      "outputs": [
        {
          "output_type": "stream",
          "name": "stdout",
          "text": [
            "              precision    recall  f1-score   support\n",
            "\n",
            "           0       0.84      0.70      0.76       284\n",
            "           1       0.45      0.48      0.47       159\n",
            "           2       0.81      0.88      0.84       442\n",
            "\n",
            "    accuracy                           0.75       885\n",
            "   macro avg       0.70      0.69      0.69       885\n",
            "weighted avg       0.75      0.75      0.75       885\n",
            "\n"
          ]
        }
      ]
    },
    {
      "cell_type": "code",
      "source": [
        "# RandomForest algoritmasını yorumluyacak olursak \"1\" sınıfının tahmini için inanılmaz kötü bir şekilde tahmin etti.\n",
        "# Bu zaten bizim öngördüğümüz bir şeydi.\n",
        "# Çünkü veri seti dengesizdi. örneklemleri birbirine eşitleyip tekrardan deneyecem\n",
        "# Dengesiz veri setlerinde çalışma yönü bakımında XGBOOST algoritması güzel bir performans veriyor bir de onunla deneyelim."
      ],
      "metadata": {
        "id": "gi7q-c1eG_Nd"
      },
      "execution_count": null,
      "outputs": []
    },
    {
      "cell_type": "markdown",
      "source": [
        "2- XGBOST"
      ],
      "metadata": {
        "id": "XmYZ65ltHvTO"
      }
    },
    {
      "cell_type": "code",
      "source": [
        "from xgboost import XGBClassifier\n",
        "from sklearn.model_selection import train_test_split\n",
        "from sklearn.metrics import classification_report\n",
        "\n",
        "#X = df.drop(\"Target\", axis=1)\n",
        "y = df[\"Target\"]\n",
        "\n",
        "X_train, X_test, y_train, y_test = train_test_split(X, y, test_size=0.2, random_state=42)\n",
        "\n",
        "\n",
        "\n",
        "xgb_model = XGBClassifier(eval_metric='mlogloss', random_state=42)\n",
        "\n",
        "# Modeli eğit\n",
        "xgb_model.fit(X_train, y_train)\n",
        "\n",
        "# Tahmin yap\n",
        "y_pred = xgb_model.predict(X_test)\n",
        "\n",
        "# Performans raporunu yazdır\n",
        "print(classification_report(y_test, y_pred))"
      ],
      "metadata": {
        "colab": {
          "base_uri": "https://localhost:8080/"
        },
        "id": "Tb3znkSGHxX2",
        "outputId": "22c5267e-8233-4f6c-b4fd-7640850ed297"
      },
      "execution_count": null,
      "outputs": [
        {
          "output_type": "stream",
          "name": "stdout",
          "text": [
            "              precision    recall  f1-score   support\n",
            "\n",
            "           0       0.82      0.74      0.78       316\n",
            "           1       0.45      0.34      0.39       151\n",
            "           2       0.78      0.91      0.84       418\n",
            "\n",
            "    accuracy                           0.75       885\n",
            "   macro avg       0.69      0.66      0.67       885\n",
            "weighted avg       0.74      0.75      0.74       885\n",
            "\n"
          ]
        }
      ]
    },
    {
      "cell_type": "code",
      "source": [
        "# XGBoost algoritması ile de \"1\" sınıfının yani verinin 1 ile etiketlenmiş olan en az sınıfın yine sorunlu olduğu görüldü.\n",
        "# Artık dengesiz veri seti ile çalışmanın bir fayda getirmeyeceği XGBoost algoritması denendikten sonra da tekrardan görülmüş oldu."
      ],
      "metadata": {
        "id": "zOkvQgQ1IYye"
      },
      "execution_count": null,
      "outputs": []
    },
    {
      "cell_type": "markdown",
      "source": [
        "Lineer Regression"
      ],
      "metadata": {
        "id": "b-kIPJYjw6k-"
      }
    },
    {
      "cell_type": "code",
      "source": [
        "from sklearn.linear_model import LogisticRegression\n",
        "from imblearn.over_sampling import SMOTE\n",
        "\n",
        "# Train-test bölme\n",
        "X_train, X_test, y_train, y_test = train_test_split(X, y, test_size=0.2, random_state=42)\n",
        "\n",
        "smote = SMOTE(random_state=42)\n",
        "X_res, y_res = smote.fit_resample(X, y)\n",
        "\n",
        "# Modeli oluştur ve eğit\n",
        "log_model = LogisticRegression(max_iter=1000,class_weight='balanced')\n",
        "log_model.fit(X_res, y_res)\n",
        "\n",
        "# Tahmin ve değerlendirme\n",
        "y_pred_log = log_model.predict(X_test)\n",
        "print(\"Logistic Regression Sonuçları:\")\n",
        "print(classification_report(y_test, y_pred_log))"
      ],
      "metadata": {
        "colab": {
          "base_uri": "https://localhost:8080/"
        },
        "id": "nezgVZtNw8dm",
        "outputId": "4a0baf66-c3cd-409a-8277-383576c084d4"
      },
      "execution_count": null,
      "outputs": [
        {
          "output_type": "stream",
          "name": "stdout",
          "text": [
            "Logistic Regression Sonuçları:\n",
            "              precision    recall  f1-score   support\n",
            "\n",
            "           0       0.82      0.57      0.67       316\n",
            "           1       0.33      0.51      0.40       151\n",
            "           2       0.76      0.78      0.77       418\n",
            "\n",
            "    accuracy                           0.66       885\n",
            "   macro avg       0.63      0.62      0.61       885\n",
            "weighted avg       0.70      0.66      0.67       885\n",
            "\n"
          ]
        },
        {
          "output_type": "stream",
          "name": "stderr",
          "text": [
            "/usr/local/lib/python3.11/dist-packages/sklearn/linear_model/_logistic.py:465: ConvergenceWarning: lbfgs failed to converge (status=1):\n",
            "STOP: TOTAL NO. OF ITERATIONS REACHED LIMIT.\n",
            "\n",
            "Increase the number of iterations (max_iter) or scale the data as shown in:\n",
            "    https://scikit-learn.org/stable/modules/preprocessing.html\n",
            "Please also refer to the documentation for alternative solver options:\n",
            "    https://scikit-learn.org/stable/modules/linear_model.html#logistic-regression\n",
            "  n_iter_i = _check_optimize_result(\n"
          ]
        }
      ]
    },
    {
      "cell_type": "markdown",
      "source": [
        "Destek Vektör Makinesi"
      ],
      "metadata": {
        "id": "dnXF87kPy7Qu"
      }
    },
    {
      "cell_type": "code",
      "source": [
        "pip install lightgbm"
      ],
      "metadata": {
        "colab": {
          "base_uri": "https://localhost:8080/"
        },
        "id": "Dxz9YCYCy_JW",
        "outputId": "f371e502-c738-432b-8744-9ebfe2337f51"
      },
      "execution_count": null,
      "outputs": [
        {
          "output_type": "stream",
          "name": "stdout",
          "text": [
            "Requirement already satisfied: lightgbm in /usr/local/lib/python3.11/dist-packages (4.5.0)\n",
            "Requirement already satisfied: numpy>=1.17.0 in /usr/local/lib/python3.11/dist-packages (from lightgbm) (2.0.2)\n",
            "Requirement already satisfied: scipy in /usr/local/lib/python3.11/dist-packages (from lightgbm) (1.15.3)\n"
          ]
        }
      ]
    },
    {
      "cell_type": "code",
      "source": [
        "import lightgbm as lgb\n",
        "\n",
        "# Modeli tanımla\n",
        "lgb_model = lgb.LGBMClassifier(random_state=42)\n",
        "\n",
        "smote = SMOTE(random_state=42)\n",
        "X_res, y_res = smote.fit_resample(X, y)\n",
        "\n",
        "# Eğit\n",
        "lgb_model.fit(X_res, y_res)\n",
        "\n",
        "# Tahmin yap\n",
        "y_pred = lgb_model.predict(X_test)\n",
        "\n",
        "# Performans raporu\n",
        "print(\"LightGBM Sınıflandırma Sonuçları:\")\n",
        "print(classification_report(y_test, y_pred))"
      ],
      "metadata": {
        "colab": {
          "base_uri": "https://localhost:8080/"
        },
        "id": "o81br7ZEzA0Q",
        "outputId": "3fa64723-efa9-47e2-e9a1-50e68922f214"
      },
      "execution_count": null,
      "outputs": [
        {
          "output_type": "stream",
          "name": "stdout",
          "text": [
            "[LightGBM] [Warning] Found whitespace in feature_names, replace with underlines\n",
            "[LightGBM] [Info] Auto-choosing row-wise multi-threading, the overhead of testing was 0.001316 seconds.\n",
            "You can set `force_row_wise=true` to remove the overhead.\n",
            "And if memory is not enough, you can set `force_col_wise=true`.\n",
            "[LightGBM] [Info] Total Bins 2798\n",
            "[LightGBM] [Info] Number of data points in the train set: 6627, number of used features: 20\n",
            "[LightGBM] [Info] Start training from score -1.098612\n",
            "[LightGBM] [Info] Start training from score -1.098612\n",
            "[LightGBM] [Info] Start training from score -1.098612\n",
            "LightGBM Sınıflandırma Sonuçları:\n",
            "              precision    recall  f1-score   support\n",
            "\n",
            "           0       0.98      0.92      0.95       316\n",
            "           1       0.93      0.85      0.89       151\n",
            "           2       0.92      0.98      0.95       418\n",
            "\n",
            "    accuracy                           0.94       885\n",
            "   macro avg       0.94      0.92      0.93       885\n",
            "weighted avg       0.94      0.94      0.94       885\n",
            "\n"
          ]
        }
      ]
    },
    {
      "cell_type": "markdown",
      "source": [
        "# Analiz"
      ],
      "metadata": {
        "id": "BRs5bTwTz3NG"
      }
    },
    {
      "cell_type": "markdown",
      "source": [
        "LGBMClassifier"
      ],
      "metadata": {
        "id": "mJDlWzpZ0A2F"
      }
    },
    {
      "cell_type": "code",
      "source": [
        "# Ezber yapmış mı kontrol et.\n",
        "\n",
        "from sklearn.metrics import f1_score\n",
        "\n",
        "# Eğitilmiş model üzerinden tahminler\n",
        "y_train_pred = lgb_model.predict(X_res)\n",
        "y_test_pred = lgb_model.predict(X_test)\n",
        "\n",
        "# Eğitim ve test F1 skorları (macro)\n",
        "train_f1 = f1_score(y_res, y_train_pred, average='macro')\n",
        "test_f1 = f1_score(y_test, y_test_pred, average='macro')\n",
        "\n",
        "print(f\"Eğitim F1 (macro): {train_f1:.4f}\")\n",
        "print(f\"Test F1 (macro): {test_f1:.4f}\")"
      ],
      "metadata": {
        "colab": {
          "base_uri": "https://localhost:8080/"
        },
        "id": "9Nfn_w8N1Odm",
        "outputId": "cb23264c-3132-46f5-f263-6caf23b2b619"
      },
      "execution_count": null,
      "outputs": [
        {
          "output_type": "stream",
          "name": "stdout",
          "text": [
            "Eğitim F1 (macro): 0.9576\n",
            "Test F1 (macro): 0.9305\n"
          ]
        }
      ]
    },
    {
      "cell_type": "code",
      "source": [
        "# Hangi Features'lar ne kadar önem sağladı.\n",
        "feature_importances = pd.Series(lgb_model.feature_importances_, index=X.columns)\n",
        "feature_importances.nlargest(20).plot(kind='barh')"
      ],
      "metadata": {
        "colab": {
          "base_uri": "https://localhost:8080/",
          "height": 447
        },
        "id": "u6GDm2JA0CJV",
        "outputId": "5844b9cb-a5d8-4ad1-c70f-d06dd36e3ba8"
      },
      "execution_count": null,
      "outputs": [
        {
          "output_type": "execute_result",
          "data": {
            "text/plain": [
              "<Axes: >"
            ]
          },
          "metadata": {},
          "execution_count": 28
        },
        {
          "output_type": "display_data",
          "data": {
            "text/plain": [
              "<Figure size 640x480 with 1 Axes>"
            ],
            "image/png": "[encoded data removed]"
          },
          "metadata": {}
        }
      ]
    },
    {
      "cell_type": "code",
      "source": [
        "# Cross Validation ile genelleme yeteneği hesaplama.\n",
        "from sklearn.model_selection import cross_val_score\n",
        "\n",
        "scores = cross_val_score(lgb_model, X, y, cv=5, scoring='f1_macro')\n",
        "print(f\"Mean F1 (macro): {scores.mean():.4f}\")"
      ],
      "metadata": {
        "colab": {
          "base_uri": "https://localhost:8080/"
        },
        "id": "8vG0HBLh0She",
        "outputId": "4bb994f0-3355-4037-ed8c-d34f7802cae0"
      },
      "execution_count": null,
      "outputs": [
        {
          "output_type": "stream",
          "name": "stdout",
          "text": [
            "[LightGBM] [Warning] Found whitespace in feature_names, replace with underlines\n",
            "[LightGBM] [Info] Auto-choosing row-wise multi-threading, the overhead of testing was 0.000513 seconds.\n",
            "You can set `force_row_wise=true` to remove the overhead.\n",
            "And if memory is not enough, you can set `force_col_wise=true`.\n",
            "[LightGBM] [Info] Total Bins 1078\n",
            "[LightGBM] [Info] Number of data points in the train set: 3539, number of used features: 20\n",
            "[LightGBM] [Info] Start training from score -1.136331\n",
            "[LightGBM] [Info] Start training from score -1.717974\n",
            "[LightGBM] [Info] Start training from score -0.693995\n",
            "[LightGBM] [Warning] Found whitespace in feature_names, replace with underlines\n",
            "[LightGBM] [Info] Auto-choosing row-wise multi-threading, the overhead of testing was 0.000663 seconds.\n",
            "You can set `force_row_wise=true` to remove the overhead.\n",
            "And if memory is not enough, you can set `force_col_wise=true`.\n",
            "[LightGBM] [Info] Total Bins 1073\n",
            "[LightGBM] [Info] Number of data points in the train set: 3539, number of used features: 20\n",
            "[LightGBM] [Info] Start training from score -1.135451\n",
            "[LightGBM] [Info] Start training from score -1.717974\n",
            "[LightGBM] [Info] Start training from score -0.694561\n",
            "[LightGBM] [Warning] Found whitespace in feature_names, replace with underlines\n",
            "[LightGBM] [Info] Auto-choosing row-wise multi-threading, the overhead of testing was 0.000549 seconds.\n",
            "You can set `force_row_wise=true` to remove the overhead.\n",
            "And if memory is not enough, you can set `force_col_wise=true`.\n",
            "[LightGBM] [Info] Total Bins 1073\n",
            "[LightGBM] [Info] Number of data points in the train set: 3539, number of used features: 20\n",
            "[LightGBM] [Info] Start training from score -1.135451\n",
            "[LightGBM] [Info] Start training from score -1.717974\n",
            "[LightGBM] [Info] Start training from score -0.694561\n",
            "[LightGBM] [Warning] Found whitespace in feature_names, replace with underlines\n",
            "[LightGBM] [Info] Auto-choosing row-wise multi-threading, the overhead of testing was 0.000508 seconds.\n",
            "You can set `force_row_wise=true` to remove the overhead.\n",
            "And if memory is not enough, you can set `force_col_wise=true`.\n",
            "[LightGBM] [Info] Total Bins 1074\n",
            "[LightGBM] [Info] Number of data points in the train set: 3539, number of used features: 20\n",
            "[LightGBM] [Info] Start training from score -1.135451\n",
            "[LightGBM] [Info] Start training from score -1.717974\n",
            "[LightGBM] [Info] Start training from score -0.694561\n",
            "[LightGBM] [Warning] Found whitespace in feature_names, replace with underlines\n",
            "[LightGBM] [Info] Auto-choosing row-wise multi-threading, the overhead of testing was 0.000520 seconds.\n",
            "You can set `force_row_wise=true` to remove the overhead.\n",
            "And if memory is not enough, you can set `force_col_wise=true`.\n",
            "[LightGBM] [Info] Total Bins 1075\n",
            "[LightGBM] [Info] Number of data points in the train set: 3540, number of used features: 20\n",
            "[LightGBM] [Info] Start training from score -1.135734\n",
            "[LightGBM] [Info] Start training from score -1.716683\n",
            "[LightGBM] [Info] Start training from score -0.694844\n",
            "Mean F1 (macro): 0.7030\n"
          ]
        }
      ]
    }
  ]
}